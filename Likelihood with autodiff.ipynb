{
 "cells": [
  {
   "cell_type": "markdown",
   "metadata": {},
   "source": [
    "# Fitting with autograd\n",
    "\n",
    "Let's import some libraries and define a helper function:"
   ]
  },
  {
   "cell_type": "code",
   "execution_count": 17,
   "metadata": {
    "collapsed": true
   },
   "outputs": [],
   "source": [
    "%matplotlib inline\n",
    "\n",
    "import autograd.numpy as np\n",
    "from autograd.scipy.stats import norm\n",
    "from autograd import grad, hessian\n",
    "from scipy.optimize import minimize\n",
    "import matplotlib.pyplot as plt\n",
    "\n",
    "# For mapping values in (0, 1) to (-inf, +inf)\n",
    "def expit(x):\n",
    "    return 1 / (1 + np.exp(-x))"
   ]
  },
  {
   "cell_type": "markdown",
   "metadata": {},
   "source": [
    "Let's generate a random dataset:"
   ]
  },
  {
   "cell_type": "code",
   "execution_count": 18,
   "metadata": {
    "collapsed": false
   },
   "outputs": [
    {
     "data": {
      "image/png": "[encoded data removed]",
      "text/plain": [
       "<matplotlib.figure.Figure at 0x10f504d30>"
      ]
     },
     "metadata": {},
     "output_type": "display_data"
    }
   ],
   "source": [
    "N = 100000\n",
    "N1 = np.random.binomial(N, 0.4)\n",
    "X1 = np.random.normal(-2, 1, N1)\n",
    "X2 = np.random.normal(2, 1.5, N - N1)\n",
    "X = np.append(X1, X2)\n",
    "\n",
    "plt.hist(X, histtype='step', color='k', bins=200);"
   ]
  },
  {
   "cell_type": "markdown",
   "metadata": {},
   "source": [
    "Define the likelihood model.\n",
    "\n",
    "Note that I mapped parameters bounded below by 0 to ones on (-inf, inf) and likewise for ones on (0, 1) to (-inf, +inf).\n",
    "\n",
    "Instead of naively calculating $\\log(f * \\exp(p_1) + (1 - f) * \\exp(p_2))$, I use the log-sum-exp trick.\n"
   ]
  },
  {
   "cell_type": "code",
   "execution_count": 19,
   "metadata": {
    "collapsed": true
   },
   "outputs": [],
   "source": [
    "def logpdf(params, data):\n",
    "    f = params['f']\n",
    "    mu1 = params['mu1']\n",
    "    mu2 = params['mu2']\n",
    "    sigma1 = params['sigma1']\n",
    "    sigma2 = params['sigma2']\n",
    "\n",
    "    p1 = np.log(expit(f)) + norm.logpdf(data, mu1, np.exp(sigma1))\n",
    "    p2 = np.log(1 - expit(f)) + norm.logpdf(data, mu2, np.exp(sigma2))\n",
    "\n",
    "    return np.logaddexp(p1, p2)"
   ]
  },
  {
   "cell_type": "markdown",
   "metadata": {},
   "source": [
    "From this, we can construct the log-likelihood for the model with some helpful logging output"
   ]
  },
  {
   "cell_type": "code",
   "execution_count": 20,
   "metadata": {
    "collapsed": true
   },
   "outputs": [],
   "source": [
    "def ll(params, data):\n",
    "    out = np.sum(logpdf(params, data))\n",
    "    if isinstance(out, np.float64):\n",
    "        print(out)\n",
    "    return out"
   ]
  },
  {
   "cell_type": "markdown",
   "metadata": {},
   "source": [
    "The objective function (that needs to be minimized) is given by"
   ]
  },
  {
   "cell_type": "code",
   "execution_count": 21,
   "metadata": {
    "collapsed": true
   },
   "outputs": [],
   "source": [
    "data = X\n",
    "\n",
    "def objective(x):\n",
    "    params = dict()\n",
    "    params['f'], params['mu1'], params['mu2'], params['sigma1'], params['sigma2'] = x \n",
    "\n",
    "    out = -ll(params, data)\n",
    "    if np.isnan(out):\n",
    "        raise ValueError(\"Illegal probability encountered at {}\".format(params))\n",
    "    return out"
   ]
  },
  {
   "cell_type": "markdown",
   "metadata": {},
   "source": [
    "Now, we can use the `autograd` library to get the gradient and hessian of the objective function."
   ]
  },
  {
   "cell_type": "code",
   "execution_count": 22,
   "metadata": {
    "collapsed": true
   },
   "outputs": [],
   "source": [
    "gradient = grad(objective)\n",
    "hess = hessian(objective)"
   ]
  },
  {
   "cell_type": "markdown",
   "metadata": {},
   "source": [
    "For the optimization, we use `scipy.optimize` with some terribly wrong initial values:"
   ]
  },
  {
   "cell_type": "code",
   "execution_count": 23,
   "metadata": {
    "collapsed": false
   },
   "outputs": [
    {
     "name": "stdout",
     "output_type": "stream",
     "text": [
      "-442770.185088\n",
      "-325866.959365\n",
      "-293026.634957\n",
      "-235160.946548\n",
      "-240483.273636\n",
      "-225903.288555\n",
      "-222531.149637\n",
      "-221215.701022\n",
      "-220459.306516\n",
      "-220348.844488\n",
      "-220213.02008\n",
      "-219992.734087\n",
      "-219757.599445\n",
      "-219622.435724\n",
      "-219534.412677\n",
      "-219525.28318\n",
      "-219525.039083\n",
      "-219525.010259\n",
      "-219525.008819\n",
      "-219525.008748\n"
     ]
    }
   ],
   "source": [
    "out = minimize(objective, jac=gradient, x0=[-3, -3, 3, 1, -1], method='L-BFGS-B')"
   ]
  },
  {
   "cell_type": "markdown",
   "metadata": {},
   "source": [
    "The minimization has finished, and we can overlay the model on top of our data"
   ]
  },
  {
   "cell_type": "code",
   "execution_count": 26,
   "metadata": {
    "collapsed": false
   },
   "outputs": [
    {
     "data": {
      "text/plain": [
       "[<matplotlib.lines.Line2D at 0x1033e9ef0>]"
      ]
     },
     "execution_count": 26,
     "metadata": {},
     "output_type": "execute_result"
    },
    {
     "data": {
      "image/png": "[encoded data removed]",
      "text/plain": [
       "<matplotlib.figure.Figure at 0x10fce5b38>"
      ]
     },
     "metadata": {},
     "output_type": "display_data"
    }
   ],
   "source": [
    "params = dict()\n",
    "params['f'], params['mu1'], params['mu2'], params['sigma1'], params['sigma2'] = out.x\n",
    "xs = np.linspace(-5, 7, 200)\n",
    "plt.hist(data, histtype='step', color='k', bins=200, range=(-5, 7), normed=True)\n",
    "f = lambda xs: np.exp(logpdf(params, xs))\n",
    "plt.plot(xs, f(xs))"
   ]
  },
  {
   "cell_type": "markdown",
   "metadata": {},
   "source": [
    "If we're interested in the errors on our parameters, we can get them from the fisher information:"
   ]
  },
  {
   "cell_type": "code",
   "execution_count": 28,
   "metadata": {
    "collapsed": false
   },
   "outputs": [
    {
     "name": "stdout",
     "output_type": "stream",
     "text": [
      "-0.399848771353 0.0104203415992\n",
      "-1.99967054954 0.00859753196565\n",
      "1.99448598671 0.0105927661859\n",
      "0.00393739343292 0.00578702226849\n",
      "0.404863029427 0.00503073097642\n"
     ]
    }
   ],
   "source": [
    "hs = hess(out.x)\n",
    "cov = np.linalg.inv(hs)\n",
    "err = np.sqrt(np.diag(cov))\n",
    "\n",
    "for x, e in zip(out.x, err):\n",
    "    print(x, e)"
   ]
  }
 ],
 "metadata": {
  "kernelspec": {
   "display_name": "Python 3",
   "language": "python",
   "name": "python3"
  },
  "language_info": {
   "codemirror_mode": {
    "name": "ipython",
    "version": 3
   },
   "file_extension": ".py",
   "mimetype": "text/x-python",
   "name": "python",
   "nbconvert_exporter": "python",
   "pygments_lexer": "ipython3",
   "version": "3.5.1"
  }
 },
 "nbformat": 4,
 "nbformat_minor": 0
}
